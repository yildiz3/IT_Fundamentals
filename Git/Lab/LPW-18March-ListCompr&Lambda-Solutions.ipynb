{
 "cells": [
  {
   "cell_type": "markdown",
   "id": "b8dc2dbc",
   "metadata": {},
   "source": [
    "\n",
    "# <font color = Red> Question 1:\n",
    "### Write a program which takes 2 digits, X,Y as input and generates a 2-dimensional list. The element value in the i-th row and j-th column of the array should be i*j.\n",
    "Note: i=0,1.., X-1; j=0,1,¡­Y-1.\n",
    "\n",
    "In order to practice it's better if you use <b> list comprehesion </b> in your code.\n",
    "## Example\n",
    "Suppose the following inputs are given to the program: 3,5\n",
    "\n",
    "Then, the output of the program should be:\n",
    "[[0, 0, 0, 0, 0], [0, 1, 2, 3, 4], [0, 2, 4, 6, 8]] \n",
    "## Hints:\n",
    "Note: In case of input data being supplied to the question, it should be assumed to be a console input in a comma-separated form."
   ]
  },
  {
   "cell_type": "markdown",
   "id": "696b7326",
   "metadata": {},
   "source": [
    "# Solution 1:"
   ]
  },
  {
   "cell_type": "code",
   "execution_count": null,
   "id": "58bae116",
   "metadata": {},
   "outputs": [],
   "source": [
    "input_str = input(\"Please enter the dimensions of the multi dimensional array (x, y): \")\n",
    "dimensions = [int(x) for x in input_str.split(',')]\n",
    "rowNum = dimensions[0]\n",
    "colNum = dimensions[1]\n",
    "multilist = [[col for col in range(colNum)] for row in range(rowNum)]\n",
    "for row in range(rowNum):\n",
    "    for col in range(colNum):\n",
    "           multilist[row][col]= row * col\n",
    "print(multilist)"
   ]
  },
  {
   "cell_type": "markdown",
   "id": "b49803c7",
   "metadata": {},
   "source": [
    "\n",
    "# <font color = Red> Question 2:\n",
    "Write a program, which will find all such numbers between 1000 and 3000 (both included) such that each digit of the number is an even number.\n",
    "\n",
    "The numbers obtained should be printed in a comma-separated sequence on a single line.\n",
    "### Hints:\n",
    "In case of input data being supplied to the question, it should be assumed to be a console input.\n",
    "\n",
    "(Ino order to practice, it's better if you use <b> lambda </b> in your code)"
   ]
  },
  {
   "cell_type": "markdown",
   "id": "6d00909c",
   "metadata": {},
   "source": [
    "# Solution 2:"
   ]
  },
  {
   "cell_type": "code",
   "execution_count": null,
   "id": "8f458c9f",
   "metadata": {},
   "outputs": [],
   "source": [
    "values = []\n",
    "for i in range(1000, 3001):\n",
    "    #s = str(i)\n",
    "    s = (lambda i: str(i))(i)\n",
    "    if (int(s[0])%2==0) and (int(s[1])%2==0) and (int(s[2])%2==0) and (int(s[3])%2==0):\n",
    "        values.append(s)\n",
    "print(\",\".join(values))"
   ]
  },
  {
   "cell_type": "markdown",
   "id": "de07d4f7",
   "metadata": {},
   "source": [
    "# <font color = Red> Question 3:\n",
    "    Given a list of cities, write a <b> function </b> to seach the list with \"*\". For instance Çan* will bring Çanakkale, if exists.\n",
    "    \n",
    "### Hints:\n",
    "When called with \"Çan\", the function should bring \"Çan\" but not \"Çanakkale\"."
   ]
  },
  {
   "cell_type": "markdown",
   "id": "23d67a79",
   "metadata": {},
   "source": [
    "# Solution 3:"
   ]
  },
  {
   "cell_type": "code",
   "execution_count": 2,
   "id": "f504dde4",
   "metadata": {},
   "outputs": [
    {
     "name": "stdout",
     "output_type": "stream",
     "text": [
      "Please enter the city name (You can use asterix): çan*\n",
      "Çanakkale\n",
      "Çan\n"
     ]
    }
   ],
   "source": [
    "cities = [\"Bolu\", \"Yozgat\", \"İnebolu\", \"Manavgat\", \"Çanakkale\", \"Çan\", \"Kırıkkale\", \"Tirebolucuk\"]\n",
    "\n",
    "def searcher(word, subword):\n",
    "    if subword[-1] == \"*\":\n",
    "        lower = word.lower()\n",
    "        if lower.startswith(subword[:-1].lower()):\n",
    "            return word\n",
    "    else:\n",
    "        if word == subword:\n",
    "            return word\n",
    "\n",
    "def find(subword):\n",
    "    for c in cities:\n",
    "        r = searcher(c, subword)\n",
    "        if r: print(r)\n",
    "            \n",
    "wordtosearch = input(\"Please enter the city name (You can use asterix): \")\n",
    "find(wordtosearch)"
   ]
  },
  {
   "cell_type": "markdown",
   "id": "d3433442",
   "metadata": {},
   "source": []
  }
 ],
 "metadata": {
  "kernelspec": {
   "display_name": "Python 3 (ipykernel)",
   "language": "python",
   "name": "python3"
  },
  "language_info": {
   "codemirror_mode": {
    "name": "ipython",
    "version": 3
   },
   "file_extension": ".py",
   "mimetype": "text/x-python",
   "name": "python",
   "nbconvert_exporter": "python",
   "pygments_lexer": "ipython3",
   "version": "3.9.7"
  }
 },
 "nbformat": 4,
 "nbformat_minor": 5
}
