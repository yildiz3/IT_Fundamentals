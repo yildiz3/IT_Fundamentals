{
  "cells": [
    {
      "cell_type": "markdown",
      "metadata": {
        "id": "0J9CskP1y7Rd"
      },
      "source": []
    }
  ],
  "metadata": {
    "colab": {
      "name": "git_in_terminal.ipynb",
      "provenance": []
    },
    "kernelspec": {
      "display_name": "Python 3",
      "name": "python3"
    },
    "language_info": {
      "name": "python"
    }
  },
  "nbformat": 4,
  "nbformat_minor": 0
}
