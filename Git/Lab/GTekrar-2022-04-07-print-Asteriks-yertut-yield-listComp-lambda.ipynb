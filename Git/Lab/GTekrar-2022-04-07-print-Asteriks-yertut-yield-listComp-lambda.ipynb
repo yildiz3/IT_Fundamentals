{
 "cells": [
  {
   "cell_type": "markdown",
   "id": "7a080cb3",
   "metadata": {},
   "source": [
    "# Print lists in Python (4 Different Ways)"
   ]
  },
  {
   "cell_type": "code",
   "execution_count": 7,
   "id": "702492e7",
   "metadata": {},
   "outputs": [],
   "source": [
    "liste = [11, 45, 8, 11, 23, 45, 23, 45, 89]"
   ]
  },
  {
   "cell_type": "code",
   "execution_count": 5,
   "id": "d0c2e4ae",
   "metadata": {},
   "outputs": [
    {
     "name": "stdout",
     "output_type": "stream",
     "text": [
      "[11, 45, 8, 11, 23, 45, 23, 45, 89]\n"
     ]
    }
   ],
   "source": [
    "print(liste)"
   ]
  },
  {
   "cell_type": "code",
   "execution_count": null,
   "id": "b76a9659",
   "metadata": {},
   "outputs": [],
   "source": []
  },
  {
   "cell_type": "markdown",
   "id": "67faac1b",
   "metadata": {},
   "source": [
    "## Using for loop :"
   ]
  },
  {
   "cell_type": "code",
   "execution_count": 3,
   "id": "d36164e1",
   "metadata": {},
   "outputs": [
    {
     "name": "stdout",
     "output_type": "stream",
     "text": [
      "11\n",
      "45\n",
      "8\n",
      "11\n",
      "23\n",
      "45\n",
      "23\n",
      "45\n",
      "89\n"
     ]
    }
   ],
   "source": [
    "for x in range(len(liste)):\n",
    "    print(liste[x])"
   ]
  },
  {
   "cell_type": "code",
   "execution_count": 30,
   "id": "c2b7ca2f",
   "metadata": {},
   "outputs": [
    {
     "name": "stdout",
     "output_type": "stream",
     "text": [
      "11\n",
      "8\n",
      "23\n",
      "23\n"
     ]
    }
   ],
   "source": [
    "for x in range(len(liste)//2):\n",
    "    print(liste[x*2])"
   ]
  },
  {
   "cell_type": "markdown",
   "id": "c9e68773",
   "metadata": {},
   "source": [
    "## Without using loops: * symbol "
   ]
  },
  {
   "cell_type": "code",
   "execution_count": null,
   "id": "02e431d5",
   "metadata": {},
   "outputs": [],
   "source": [
    "liste = [11, 45, 8, 11, 23, 45, 23, 45, 89]"
   ]
  },
  {
   "cell_type": "code",
   "execution_count": 8,
   "id": "5ee901e8",
   "metadata": {},
   "outputs": [
    {
     "ename": "SyntaxError",
     "evalue": "can't use starred expression here (102785490.py, line 1)",
     "output_type": "error",
     "traceback": [
      "\u001b[1;36m  Input \u001b[1;32mIn [8]\u001b[1;36m\u001b[0m\n\u001b[1;33m    *liste\u001b[0m\n\u001b[1;37m    ^\u001b[0m\n\u001b[1;31mSyntaxError\u001b[0m\u001b[1;31m:\u001b[0m can't use starred expression here\n"
     ]
    }
   ],
   "source": [
    "*liste"
   ]
  },
  {
   "cell_type": "code",
   "execution_count": 12,
   "id": "a456c957",
   "metadata": {},
   "outputs": [
    {
     "name": "stdout",
     "output_type": "stream",
     "text": [
      "11 45 8 11 23 45 23 45 89\n"
     ]
    }
   ],
   "source": [
    "print(*liste)"
   ]
  },
  {
   "cell_type": "code",
   "execution_count": 10,
   "id": "071316b1",
   "metadata": {},
   "outputs": [
    {
     "name": "stdout",
     "output_type": "stream",
     "text": [
      "11 45 8 11 23 45 23 45 89\n"
     ]
    }
   ],
   "source": [
    "print(11, 45, 8, 11, 23, 45, 23, 45, 89)"
   ]
  },
  {
   "cell_type": "code",
   "execution_count": 15,
   "id": "3ddd430b",
   "metadata": {},
   "outputs": [
    {
     "name": "stdout",
     "output_type": "stream",
     "text": [
      "11\n",
      "45\n",
      "8\n",
      "11\n",
      "23\n",
      "45\n",
      "23\n",
      "45\n",
      "89\n"
     ]
    }
   ],
   "source": [
    "print(11, 45, 8, 11, 23, 45, 23, 45, 89, sep='\\n')"
   ]
  },
  {
   "cell_type": "code",
   "execution_count": 14,
   "id": "338a3453",
   "metadata": {},
   "outputs": [
    {
     "name": "stdout",
     "output_type": "stream",
     "text": [
      "11\n",
      "45\n",
      "8\n",
      "11\n",
      "23\n",
      "45\n",
      "23\n",
      "45\n",
      "89\n"
     ]
    }
   ],
   "source": [
    "print(*liste, sep='\\n')"
   ]
  },
  {
   "cell_type": "code",
   "execution_count": null,
   "id": "e98f261a",
   "metadata": {},
   "outputs": [],
   "source": []
  },
  {
   "cell_type": "code",
   "execution_count": 16,
   "id": "ccc00234",
   "metadata": {},
   "outputs": [
    {
     "ename": "SyntaxError",
     "evalue": "can't use starred expression here (2969166982.py, line 1)",
     "output_type": "error",
     "traceback": [
      "\u001b[1;36m  Input \u001b[1;32mIn [16]\u001b[1;36m\u001b[0m\n\u001b[1;33m    *'deneme'\u001b[0m\n\u001b[1;37m    ^\u001b[0m\n\u001b[1;31mSyntaxError\u001b[0m\u001b[1;31m:\u001b[0m can't use starred expression here\n"
     ]
    }
   ],
   "source": [
    "*'deneme'"
   ]
  },
  {
   "cell_type": "code",
   "execution_count": 1,
   "id": "ae013f5e",
   "metadata": {},
   "outputs": [
    {
     "name": "stdout",
     "output_type": "stream",
     "text": [
      "d\te\tn\te\tm\te\n"
     ]
    }
   ],
   "source": [
    "print(*'deneme', sep='\\t')"
   ]
  },
  {
   "cell_type": "code",
   "execution_count": 3,
   "id": "9f8beb5a",
   "metadata": {},
   "outputs": [
    {
     "data": {
      "text/plain": [
       "['d', 'e', 'n', 'e', 'm', 'e']"
      ]
     },
     "execution_count": 3,
     "metadata": {},
     "output_type": "execute_result"
    }
   ],
   "source": [
    "list3 = [*'deneme']\n",
    "list3"
   ]
  },
  {
   "cell_type": "code",
   "execution_count": null,
   "id": "ac3d0198",
   "metadata": {},
   "outputs": [],
   "source": []
  },
  {
   "cell_type": "code",
   "execution_count": 4,
   "id": "67738e9a",
   "metadata": {},
   "outputs": [
    {
     "name": "stdout",
     "output_type": "stream",
     "text": [
      "d\te\tn\te\tm\te\n"
     ]
    }
   ],
   "source": [
    "print(*list3, sep='\\t')"
   ]
  },
  {
   "cell_type": "code",
   "execution_count": 51,
   "id": "c8158120",
   "metadata": {},
   "outputs": [
    {
     "name": "stdout",
     "output_type": "stream",
     "text": [
      "11 + 45 + 8 + 11 + 23 + 45 + 23 + 45 + 89\n"
     ]
    }
   ],
   "source": [
    "print(*liste, sep=' + ')"
   ]
  },
  {
   "cell_type": "code",
   "execution_count": null,
   "id": "630caae4",
   "metadata": {},
   "outputs": [],
   "source": [
    "liste = [11, 45, 8, 11, 23, 45, 23, 45, 89]"
   ]
  },
  {
   "cell_type": "code",
   "execution_count": null,
   "id": "d34ff19c",
   "metadata": {},
   "outputs": [],
   "source": []
  },
  {
   "cell_type": "markdown",
   "id": "517f896b",
   "metadata": {},
   "source": [
    "# split()"
   ]
  },
  {
   "cell_type": "code",
   "execution_count": 18,
   "id": "004fad1f",
   "metadata": {},
   "outputs": [
    {
     "data": {
      "text/plain": [
       "['d', 'e', 'n', 'e', 'm', 'e']"
      ]
     },
     "execution_count": 18,
     "metadata": {},
     "output_type": "execute_result"
    }
   ],
   "source": [
    "list1 = 'd e n e m e'.split()  #  (' ')  list() - []\n",
    "list1"
   ]
  },
  {
   "cell_type": "code",
   "execution_count": 20,
   "id": "f53176bc",
   "metadata": {},
   "outputs": [
    {
     "data": {
      "text/plain": [
       "['d ', ' n ', ' m ', '']"
      ]
     },
     "execution_count": 20,
     "metadata": {},
     "output_type": "execute_result"
    }
   ],
   "source": [
    "list1 = 'd e n e m e'.split('e')  #  (' ')  list() - []\n",
    "list1"
   ]
  },
  {
   "cell_type": "code",
   "execution_count": 21,
   "id": "cb14d5b8",
   "metadata": {},
   "outputs": [
    {
     "data": {
      "text/plain": [
       "['deneme']"
      ]
     },
     "execution_count": 21,
     "metadata": {},
     "output_type": "execute_result"
    }
   ],
   "source": [
    "list1 = 'deneme'.split()  #  (' ')  list() - []\n",
    "list1"
   ]
  },
  {
   "cell_type": "code",
   "execution_count": 19,
   "id": "e2ea7f5c",
   "metadata": {},
   "outputs": [
    {
     "data": {
      "text/plain": [
       "list"
      ]
     },
     "execution_count": 19,
     "metadata": {},
     "output_type": "execute_result"
    }
   ],
   "source": [
    "type(list1)"
   ]
  },
  {
   "cell_type": "code",
   "execution_count": 64,
   "id": "497c6d8f",
   "metadata": {},
   "outputs": [
    {
     "data": {
      "text/plain": [
       "['d', 'e n e m', 'e']"
      ]
     },
     "execution_count": 64,
     "metadata": {},
     "output_type": "execute_result"
    }
   ],
   "source": [
    "list1 = 'd+e n e m+e'.split('+')  #  (' ')\n",
    "list1"
   ]
  },
  {
   "cell_type": "code",
   "execution_count": 65,
   "id": "42177b70",
   "metadata": {},
   "outputs": [
    {
     "data": {
      "text/plain": [
       "['de n', 'e me']"
      ]
     },
     "execution_count": 65,
     "metadata": {},
     "output_type": "execute_result"
    }
   ],
   "source": [
    "list1 = 'de n4e me'.split('4')  #  (' ')\n",
    "list1"
   ]
  },
  {
   "cell_type": "markdown",
   "id": "6d22212b",
   "metadata": {},
   "source": [
    "# ''.join(iterable)  # 'arası',  (iterable-string)"
   ]
  },
  {
   "cell_type": "code",
   "execution_count": 22,
   "id": "9b0720d5",
   "metadata": {},
   "outputs": [
    {
     "data": {
      "text/plain": [
       "'deneme'"
      ]
     },
     "execution_count": 22,
     "metadata": {},
     "output_type": "execute_result"
    }
   ],
   "source": [
    "list1 = ''.join('deneme')\n",
    "list1"
   ]
  },
  {
   "cell_type": "code",
   "execution_count": 23,
   "id": "9af39de8",
   "metadata": {},
   "outputs": [
    {
     "data": {
      "text/plain": [
       "'d+e+n+e+m+e'"
      ]
     },
     "execution_count": 23,
     "metadata": {},
     "output_type": "execute_result"
    }
   ],
   "source": [
    "list1 = '+'.join('deneme')\n",
    "list1"
   ]
  },
  {
   "cell_type": "code",
   "execution_count": 10,
   "id": "f217769f",
   "metadata": {},
   "outputs": [
    {
     "data": {
      "text/plain": [
       "'d\\ne\\nn\\ne\\nm\\ne'"
      ]
     },
     "execution_count": 10,
     "metadata": {},
     "output_type": "execute_result"
    }
   ],
   "source": [
    "list1 = ''.join('deneme')\n",
    "list1"
   ]
  },
  {
   "cell_type": "code",
   "execution_count": 25,
   "id": "15d25c50",
   "metadata": {},
   "outputs": [
    {
     "data": {
      "text/plain": [
       "['d', 'e', 'n', 'e', 'm', 'e']"
      ]
     },
     "execution_count": 25,
     "metadata": {},
     "output_type": "execute_result"
    }
   ],
   "source": [
    "list1 = ' '.join('deneme').split()\n",
    "list1"
   ]
  },
  {
   "cell_type": "code",
   "execution_count": 26,
   "id": "6fd20dde",
   "metadata": {},
   "outputs": [
    {
     "data": {
      "text/plain": [
       "['d', 'e', 'n', 'e', 'm', 'e']"
      ]
     },
     "execution_count": 26,
     "metadata": {},
     "output_type": "execute_result"
    }
   ],
   "source": [
    "list1 = [*'deneme']\n",
    "list1"
   ]
  },
  {
   "cell_type": "code",
   "execution_count": 11,
   "id": "f9b0943d",
   "metadata": {},
   "outputs": [],
   "source": [
    "liste = [11, 45, 8, 11, 23, 45, 23, 45, 89]"
   ]
  },
  {
   "cell_type": "code",
   "execution_count": 12,
   "id": "04788873",
   "metadata": {},
   "outputs": [
    {
     "ename": "TypeError",
     "evalue": "sequence item 0: expected str instance, int found",
     "output_type": "error",
     "traceback": [
      "\u001b[1;31m---------------------------------------------------------------------------\u001b[0m",
      "\u001b[1;31mTypeError\u001b[0m                                 Traceback (most recent call last)",
      "\u001b[1;32md:\\Masaüstü\\Yeni klasör (2)\\GTekrar-2022-04-03-print-Asteriks-yertut-yield-listComp-lambda.ipynb Cell 38'\u001b[0m in \u001b[0;36m<cell line: 1>\u001b[1;34m()\u001b[0m\n\u001b[1;32m----> <a href='vscode-notebook-cell:/d%3A/Masa%C3%BCst%C3%BC/Yeni%20klas%C3%B6r%20%282%29/GTekrar-2022-04-03-print-Asteriks-yertut-yield-listComp-lambda.ipynb#ch0000192?line=0'>1</a>\u001b[0m \u001b[39m'\u001b[39;49m\u001b[39m'\u001b[39;49m\u001b[39m.\u001b[39;49mjoin(liste)\n",
      "\u001b[1;31mTypeError\u001b[0m: sequence item 0: expected str instance, int found"
     ]
    }
   ],
   "source": [
    "''.join(liste)  # join strin alır"
   ]
  },
  {
   "cell_type": "code",
   "execution_count": 35,
   "id": "0eeec7c7",
   "metadata": {},
   "outputs": [],
   "source": [
    "liste = ['11', '45', '8', '11', '23', '45', '23', '45', '89']"
   ]
  },
  {
   "cell_type": "code",
   "execution_count": 36,
   "id": "99c68139",
   "metadata": {},
   "outputs": [
    {
     "data": {
      "text/plain": [
       "'11 45 8 11 23 45 23 45 89'"
      ]
     },
     "execution_count": 36,
     "metadata": {},
     "output_type": "execute_result"
    }
   ],
   "source": [
    "ilk_hali = ' '.join(liste)  # like 'd e n e m e'\n",
    "ilk_hali "
   ]
  },
  {
   "cell_type": "code",
   "execution_count": 37,
   "id": "683f76f9",
   "metadata": {},
   "outputs": [
    {
     "name": "stdout",
     "output_type": "stream",
     "text": [
      "11\t45\t8\t11\t23\t45\t23\t45\t89\n"
     ]
    }
   ],
   "source": [
    "print('\\t'.join(liste))"
   ]
  },
  {
   "cell_type": "code",
   "execution_count": 38,
   "id": "bbff8dca",
   "metadata": {},
   "outputs": [
    {
     "name": "stdout",
     "output_type": "stream",
     "text": [
      "11\n",
      "45\n",
      "8\n",
      "11\n",
      "23\n",
      "45\n",
      "23\n",
      "45\n",
      "89\n"
     ]
    }
   ],
   "source": [
    "print('\\n'.join(liste))"
   ]
  },
  {
   "cell_type": "code",
   "execution_count": null,
   "id": "7b019aef",
   "metadata": {},
   "outputs": [],
   "source": []
  },
  {
   "cell_type": "markdown",
   "id": "a4fe56f3",
   "metadata": {},
   "source": [
    "## Using map : Use map()"
   ]
  },
  {
   "cell_type": "code",
   "execution_count": null,
   "id": "82f14c95",
   "metadata": {},
   "outputs": [],
   "source": []
  },
  {
   "cell_type": "code",
   "execution_count": 13,
   "id": "31c112d8",
   "metadata": {},
   "outputs": [
    {
     "data": {
      "text/plain": [
       "(['11', '45', '8', '11', '23', '45', '23', '45', '89'], <map at 0x1a6fa63b130>)"
      ]
     },
     "execution_count": 13,
     "metadata": {},
     "output_type": "execute_result"
    }
   ],
   "source": [
    "liste = [11, 45, 8, 11, 23, 45, 23, 45, 89]\n",
    "\n",
    "list(map(str, liste)), map(str, liste)"
   ]
  },
  {
   "cell_type": "code",
   "execution_count": 43,
   "id": "034ad11c",
   "metadata": {},
   "outputs": [
    {
     "name": "stdout",
     "output_type": "stream",
     "text": [
      "11\n",
      "45\n",
      "8\n",
      "11\n",
      "23\n",
      "45\n",
      "23\n",
      "45\n",
      "89\n"
     ]
    }
   ],
   "source": [
    "print('\\n'.join(map(str, liste)))"
   ]
  },
  {
   "cell_type": "code",
   "execution_count": null,
   "id": "bd422847",
   "metadata": {},
   "outputs": [],
   "source": []
  },
  {
   "cell_type": "markdown",
   "id": "c5e975c0",
   "metadata": {},
   "source": [
    "# tuple ve yer tutucu(_) ve * kullanımı"
   ]
  },
  {
   "cell_type": "code",
   "execution_count": 47,
   "id": "c3e2a293",
   "metadata": {},
   "outputs": [
    {
     "data": {
      "text/plain": [
       "'12'"
      ]
     },
     "execution_count": 47,
     "metadata": {},
     "output_type": "execute_result"
    }
   ],
   "source": [
    "a = '12'\n",
    "a"
   ]
  },
  {
   "cell_type": "code",
   "execution_count": 45,
   "id": "40371ab1",
   "metadata": {},
   "outputs": [
    {
     "data": {
      "text/plain": [
       "('12', '12')"
      ]
     },
     "execution_count": 45,
     "metadata": {},
     "output_type": "execute_result"
    }
   ],
   "source": [
    "a = b = '12'\n",
    "a,b"
   ]
  },
  {
   "cell_type": "code",
   "execution_count": 48,
   "id": "55638411",
   "metadata": {},
   "outputs": [
    {
     "data": {
      "text/plain": [
       "('1', '2')"
      ]
     },
     "execution_count": 48,
     "metadata": {},
     "output_type": "execute_result"
    }
   ],
   "source": [
    "a, b = '1', '2'\n",
    "a,b"
   ]
  },
  {
   "cell_type": "code",
   "execution_count": 53,
   "id": "d6bcdb13",
   "metadata": {},
   "outputs": [
    {
     "data": {
      "text/plain": [
       "('1', '2')"
      ]
     },
     "execution_count": 53,
     "metadata": {},
     "output_type": "execute_result"
    }
   ],
   "source": [
    "x, y = '12'\n",
    "x,y"
   ]
  },
  {
   "cell_type": "code",
   "execution_count": 55,
   "id": "37a963ab",
   "metadata": {},
   "outputs": [
    {
     "data": {
      "text/plain": [
       "(1, 2)"
      ]
     },
     "execution_count": 55,
     "metadata": {},
     "output_type": "execute_result"
    }
   ],
   "source": [
    "x, y, z = [1, 2, 3]\n",
    "x,y"
   ]
  },
  {
   "cell_type": "code",
   "execution_count": 56,
   "id": "f26539b9",
   "metadata": {},
   "outputs": [
    {
     "ename": "ValueError",
     "evalue": "too many values to unpack (expected 2)",
     "output_type": "error",
     "traceback": [
      "\u001b[1;31m---------------------------------------------------------------------------\u001b[0m",
      "\u001b[1;31mValueError\u001b[0m                                Traceback (most recent call last)",
      "\u001b[1;32md:\\Belgeler\\GTekrar-2022-04-02-print-Asteriks-yertut-yield-listComp-lambda.ipynb Cell 52'\u001b[0m in \u001b[0;36m<cell line: 1>\u001b[1;34m()\u001b[0m\n\u001b[1;32m----> <a href='vscode-notebook-cell:/d%3A/Belgeler/GTekrar-2022-04-02-print-Asteriks-yertut-yield-listComp-lambda.ipynb#ch0000037?line=0'>1</a>\u001b[0m a, b \u001b[39m=\u001b[39m \u001b[39m'\u001b[39m\u001b[39m12345\u001b[39m\u001b[39m'\u001b[39m\n\u001b[0;32m      <a href='vscode-notebook-cell:/d%3A/Belgeler/GTekrar-2022-04-02-print-Asteriks-yertut-yield-listComp-lambda.ipynb#ch0000037?line=1'>2</a>\u001b[0m a,b\n",
      "\u001b[1;31mValueError\u001b[0m: too many values to unpack (expected 2)"
     ]
    }
   ],
   "source": [
    "a, b = '12345'\n",
    "a,b"
   ]
  },
  {
   "cell_type": "code",
   "execution_count": 57,
   "id": "b107f9d9",
   "metadata": {},
   "outputs": [
    {
     "data": {
      "text/plain": [
       "('1', '2', ['3', '4', '5'])"
      ]
     },
     "execution_count": 57,
     "metadata": {},
     "output_type": "execute_result"
    }
   ],
   "source": [
    "a, b, *c = '12345'\n",
    "a, b, c"
   ]
  },
  {
   "cell_type": "code",
   "execution_count": 58,
   "id": "62c0324f",
   "metadata": {
    "scrolled": true
   },
   "outputs": [
    {
     "data": {
      "text/plain": [
       "('1', '2')"
      ]
     },
     "execution_count": 58,
     "metadata": {},
     "output_type": "execute_result"
    }
   ],
   "source": [
    "a, b, _ = '123'\n",
    "a,b"
   ]
  },
  {
   "cell_type": "code",
   "execution_count": 59,
   "id": "0927eff3",
   "metadata": {},
   "outputs": [
    {
     "data": {
      "text/plain": [
       "('1', '2', '3')"
      ]
     },
     "execution_count": 59,
     "metadata": {},
     "output_type": "execute_result"
    }
   ],
   "source": [
    "a, b, _ = '123'\n",
    "a,b, _"
   ]
  },
  {
   "cell_type": "code",
   "execution_count": 62,
   "id": "2db86c17",
   "metadata": {},
   "outputs": [
    {
     "data": {
      "text/plain": [
       "('b', 'o')"
      ]
     },
     "execution_count": 62,
     "metadata": {},
     "output_type": "execute_result"
    }
   ],
   "source": [
    "a, s, d = 'bos'\n",
    "a,s"
   ]
  },
  {
   "cell_type": "code",
   "execution_count": 82,
   "id": "51d0b7a8",
   "metadata": {},
   "outputs": [
    {
     "data": {
      "text/plain": [
       "('1', '2', ['3', '4', '5'])"
      ]
     },
     "execution_count": 82,
     "metadata": {},
     "output_type": "execute_result"
    }
   ],
   "source": [
    "a, b, *_ = '12345'\n",
    "a,b, _"
   ]
  },
  {
   "cell_type": "code",
   "execution_count": 83,
   "id": "462b342d",
   "metadata": {},
   "outputs": [
    {
     "data": {
      "text/plain": [
       "('1', '3')"
      ]
     },
     "execution_count": 83,
     "metadata": {},
     "output_type": "execute_result"
    }
   ],
   "source": [
    "a, b, b = '123'\n",
    "a,b"
   ]
  },
  {
   "cell_type": "code",
   "execution_count": 84,
   "id": "eb9cb7d7",
   "metadata": {},
   "outputs": [
    {
     "data": {
      "text/plain": [
       "1"
      ]
     },
     "execution_count": 84,
     "metadata": {},
     "output_type": "execute_result"
    }
   ],
   "source": [
    "a = 1\n",
    "a"
   ]
  },
  {
   "cell_type": "code",
   "execution_count": 86,
   "id": "4ec715e5",
   "metadata": {},
   "outputs": [
    {
     "name": "stdout",
     "output_type": "stream",
     "text": [
      "(1,) <class 'tuple'>\n"
     ]
    }
   ],
   "source": [
    "a = 1,\n",
    "print(a, type(a))"
   ]
  },
  {
   "cell_type": "code",
   "execution_count": null,
   "id": "4c59899c",
   "metadata": {},
   "outputs": [],
   "source": []
  },
  {
   "cell_type": "markdown",
   "id": "c06a8a59",
   "metadata": {},
   "source": [
    "# list().count()"
   ]
  },
  {
   "cell_type": "code",
   "execution_count": 63,
   "id": "bfed3447",
   "metadata": {},
   "outputs": [],
   "source": [
    "liste = [11, 45, 8, 11, 23, 45, 23, 45, 89]"
   ]
  },
  {
   "cell_type": "code",
   "execution_count": 64,
   "id": "790fab56",
   "metadata": {},
   "outputs": [
    {
     "data": {
      "text/plain": [
       "2"
      ]
     },
     "execution_count": 64,
     "metadata": {},
     "output_type": "execute_result"
    }
   ],
   "source": [
    "liste.count(11)"
   ]
  },
  {
   "cell_type": "code",
   "execution_count": 6,
   "id": "5c02df42",
   "metadata": {},
   "outputs": [
    {
     "name": "stdout",
     "output_type": "stream",
     "text": [
      "{11: 2, 45: 3, 8: 1, 23: 2, 89: 1}\n"
     ]
    }
   ],
   "source": [
    "# count metodu olmadan liste içini sayma\n",
    "liste = [11, 45, 8, 11, 23, 45, 23, 45, 89]\n",
    "result2 = {}  # liste elemanı key olsun yanın da sayısı olsun\n",
    "\n",
    "for i in liste:\n",
    "    if i in result2:  # {key:value}\n",
    "        result2[i] += 1\n",
    "    else:\n",
    "        result2[i] = 1  \n",
    "print(result2)"
   ]
  },
  {
   "cell_type": "code",
   "execution_count": 15,
   "id": "c69e7441",
   "metadata": {},
   "outputs": [
    {
     "name": "stdout",
     "output_type": "stream",
     "text": [
      "{11: 2, 45: 3, 8: 1, 23: 2, 89: 1}\n"
     ]
    }
   ],
   "source": [
    "liste = [11, 45, 8, 11, 23, 45, 23, 45, 89]  \n",
    "result = {}\n",
    "for i in liste:  # set-daha hızlı veya liste  9 feda döngü\n",
    "    result[i] = liste.count(i)  \n",
    "print(result)"
   ]
  },
  {
   "cell_type": "code",
   "execution_count": 17,
   "id": "ef8cce3b",
   "metadata": {},
   "outputs": [
    {
     "name": "stdout",
     "output_type": "stream",
     "text": [
      "{8: 1, 11: 2, 45: 3, 23: 2, 89: 1}\n"
     ]
    }
   ],
   "source": [
    "liste = [11, 45, 8, 11, 23, 45, 23, 45, 89]\n",
    "result = {}\n",
    "for i in set(liste):  # set-daha hızlı veya liste  5 defa döngü\n",
    "    result[i] = liste.count(i)  \n",
    "print(result)"
   ]
  },
  {
   "cell_type": "markdown",
   "id": "d8f866ac",
   "metadata": {},
   "source": [
    "# {}.fromkeys(tipler)"
   ]
  },
  {
   "cell_type": "code",
   "execution_count": 66,
   "id": "5bf88fdf",
   "metadata": {},
   "outputs": [
    {
     "name": "stdout",
     "output_type": "stream",
     "text": [
      "{11: 0, 45: 0, 8: 0, 23: 0, 89: 0}\n",
      "{11: 2, 45: 3, 8: 1, 23: 2, 89: 1}\n"
     ]
    }
   ],
   "source": [
    "liste = [11, 45, 8, 11, 23, 45, 23, 45, 89]\n",
    "dic = dict().fromkeys(liste, 0) # atama gerekiyor key listeden value = 0 , {}.fromkeys(liste, 0)\n",
    "print(dic)\n",
    "\n",
    "for i in liste:  # 9 defa\n",
    "    dic[i]+=1  # dic[i]= dic[i] + 1\n",
    "print(dic)"
   ]
  },
  {
   "cell_type": "code",
   "execution_count": null,
   "id": "11a0d8cf",
   "metadata": {},
   "outputs": [],
   "source": []
  },
  {
   "cell_type": "markdown",
   "id": "e18017c3",
   "metadata": {},
   "source": [
    "# zip()  - generator"
   ]
  },
  {
   "cell_type": "code",
   "execution_count": 19,
   "id": "ab0e1319",
   "metadata": {},
   "outputs": [],
   "source": [
    "first_list = [2, 3, 5]\n",
    "second_list = [4, 9]"
   ]
  },
  {
   "cell_type": "code",
   "execution_count": 20,
   "id": "563f7428",
   "metadata": {},
   "outputs": [
    {
     "data": {
      "text/plain": [
       "((2, 4), (3, 9))"
      ]
     },
     "execution_count": 20,
     "metadata": {},
     "output_type": "execute_result"
    }
   ],
   "source": [
    "zipp = zip(first_list, second_list)\n",
    "# print(*zipp)\n",
    "*zipp,"
   ]
  },
  {
   "cell_type": "code",
   "execution_count": 21,
   "id": "24bbac91",
   "metadata": {},
   "outputs": [
    {
     "data": {
      "text/plain": [
       "()"
      ]
     },
     "execution_count": 21,
     "metadata": {},
     "output_type": "execute_result"
    }
   ],
   "source": [
    "*zipp,  # generator"
   ]
  },
  {
   "cell_type": "code",
   "execution_count": 22,
   "id": "580b9446",
   "metadata": {},
   "outputs": [
    {
     "name": "stdout",
     "output_type": "stream",
     "text": [
      "[(2, 4), (3, 9)]\n"
     ]
    }
   ],
   "source": [
    "last = list(zip(first_list, second_list))\n",
    "print(last)"
   ]
  },
  {
   "cell_type": "code",
   "execution_count": 23,
   "id": "20bbf9dd",
   "metadata": {},
   "outputs": [
    {
     "data": {
      "text/plain": [
       "[(2, 4), (3, 9)]"
      ]
     },
     "execution_count": 23,
     "metadata": {},
     "output_type": "execute_result"
    }
   ],
   "source": [
    "last"
   ]
  },
  {
   "cell_type": "code",
   "execution_count": null,
   "id": "4376e384",
   "metadata": {},
   "outputs": [],
   "source": []
  },
  {
   "cell_type": "markdown",
   "id": "d420cb7f",
   "metadata": {},
   "source": [
    "# emumarate() - generator"
   ]
  },
  {
   "cell_type": "code",
   "execution_count": 97,
   "id": "caf35e97",
   "metadata": {},
   "outputs": [],
   "source": [
    "liste = [11, 45, 8, 11, 23, 45, 23, 45, 89]"
   ]
  },
  {
   "cell_type": "code",
   "execution_count": 85,
   "id": "b1e4ee92",
   "metadata": {},
   "outputs": [
    {
     "data": {
      "text/plain": [
       "<enumerate at 0x21c5e147b80>"
      ]
     },
     "execution_count": 85,
     "metadata": {},
     "output_type": "execute_result"
    }
   ],
   "source": [
    "enumerate(liste)"
   ]
  },
  {
   "cell_type": "code",
   "execution_count": 86,
   "id": "13c38568",
   "metadata": {},
   "outputs": [
    {
     "data": {
      "text/plain": [
       "((0, 11),\n",
       " (1, 45),\n",
       " (2, 8),\n",
       " (3, 11),\n",
       " (4, 23),\n",
       " (5, 45),\n",
       " (6, 23),\n",
       " (7, 45),\n",
       " (8, 89))"
      ]
     },
     "execution_count": 86,
     "metadata": {},
     "output_type": "execute_result"
    }
   ],
   "source": [
    "*enumerate(liste),"
   ]
  },
  {
   "cell_type": "code",
   "execution_count": 113,
   "id": "86c6ee0e",
   "metadata": {},
   "outputs": [
    {
     "data": {
      "text/plain": [
       "((100, 11),\n",
       " (101, 45),\n",
       " (102, 8),\n",
       " (103, 11),\n",
       " (104, 23),\n",
       " (105, 45),\n",
       " (106, 23),\n",
       " (107, 45),\n",
       " (108, 89))"
      ]
     },
     "execution_count": 113,
     "metadata": {},
     "output_type": "execute_result"
    }
   ],
   "source": [
    "*enumerate(liste, 100),"
   ]
  },
  {
   "cell_type": "code",
   "execution_count": 87,
   "id": "0813a504",
   "metadata": {},
   "outputs": [
    {
     "name": "stdout",
     "output_type": "stream",
     "text": [
      "(0, 11) (1, 45) (2, 8) (3, 11) (4, 23) (5, 45) (6, 23) (7, 45) (8, 89)\n"
     ]
    }
   ],
   "source": [
    "print(*enumerate(liste))"
   ]
  },
  {
   "cell_type": "code",
   "execution_count": 88,
   "id": "18795c5c",
   "metadata": {},
   "outputs": [
    {
     "name": "stdout",
     "output_type": "stream",
     "text": [
      "(0, 11)\n",
      "(1, 45)\n",
      "(2, 8)\n",
      "(3, 11)\n",
      "(4, 23)\n",
      "(5, 45)\n",
      "(6, 23)\n",
      "(7, 45)\n",
      "(8, 89)\n"
     ]
    }
   ],
   "source": [
    "print(*enumerate(liste), sep='\\n')"
   ]
  },
  {
   "cell_type": "code",
   "execution_count": 115,
   "id": "da7e91cc",
   "metadata": {},
   "outputs": [
    {
     "data": {
      "text/plain": [
       "((100, 11),\n",
       " (101, 45),\n",
       " (102, 8),\n",
       " (103, 11),\n",
       " (104, 23),\n",
       " (105, 45),\n",
       " (106, 23),\n",
       " (107, 45),\n",
       " (108, 89))"
      ]
     },
     "execution_count": 115,
     "metadata": {},
     "output_type": "execute_result"
    }
   ],
   "source": [
    "en = enumerate(liste, 100)\n",
    "*en,"
   ]
  },
  {
   "cell_type": "code",
   "execution_count": 116,
   "id": "6e2e773a",
   "metadata": {},
   "outputs": [
    {
     "data": {
      "text/plain": [
       "()"
      ]
     },
     "execution_count": 116,
     "metadata": {},
     "output_type": "execute_result"
    }
   ],
   "source": [
    "*en,"
   ]
  },
  {
   "cell_type": "code",
   "execution_count": 94,
   "id": "58f45acd",
   "metadata": {},
   "outputs": [
    {
     "name": "stdout",
     "output_type": "stream",
     "text": [
      "3\n"
     ]
    }
   ],
   "source": [
    "print(3)"
   ]
  },
  {
   "cell_type": "code",
   "execution_count": 95,
   "id": "b316fc53",
   "metadata": {},
   "outputs": [
    {
     "name": "stdout",
     "output_type": "stream",
     "text": [
      "3\n"
     ]
    }
   ],
   "source": [
    "print(3,)"
   ]
  },
  {
   "cell_type": "code",
   "execution_count": 29,
   "id": "7718eb07",
   "metadata": {},
   "outputs": [
    {
     "name": "stdout",
     "output_type": "stream",
     "text": [
      "[(0, 11), (1, 45), (2, 8), (3, 11), (4, 23), (5, 45), (6, 23), (7, 45), (8, 89)]\n"
     ]
    }
   ],
   "source": [
    "print(list(enumerate(liste)), sep='\\n')"
   ]
  },
  {
   "cell_type": "code",
   "execution_count": null,
   "id": "620a0a1f",
   "metadata": {},
   "outputs": [],
   "source": [
    "print(*list(enumerate(liste)), sep='\\n')"
   ]
  },
  {
   "cell_type": "code",
   "execution_count": 101,
   "id": "db698f55",
   "metadata": {},
   "outputs": [
    {
     "name": "stdout",
     "output_type": "stream",
     "text": [
      "(0, 11)\n",
      "(1, 45)\n",
      "(2, 8)\n",
      "(3, 11)\n",
      "(4, 23)\n",
      "(5, 45)\n",
      "(6, 23)\n",
      "(7, 45)\n",
      "(8, 89)\n"
     ]
    }
   ],
   "source": [
    "print(*enumerate(liste), sep='\\n')"
   ]
  },
  {
   "cell_type": "code",
   "execution_count": null,
   "id": "faf6d6c0",
   "metadata": {},
   "outputs": [],
   "source": []
  },
  {
   "cell_type": "code",
   "execution_count": 37,
   "id": "6a713f70",
   "metadata": {},
   "outputs": [
    {
     "data": {
      "text/plain": [
       "['deneme']"
      ]
     },
     "execution_count": 37,
     "metadata": {},
     "output_type": "execute_result"
    }
   ],
   "source": [
    "liste = ['deneme']\n",
    "liste"
   ]
  },
  {
   "cell_type": "code",
   "execution_count": 38,
   "id": "d9754511",
   "metadata": {},
   "outputs": [
    {
     "data": {
      "text/plain": [
       "['d', 'e', 'n', 'e', 'm', 'e']"
      ]
     },
     "execution_count": 38,
     "metadata": {},
     "output_type": "execute_result"
    }
   ],
   "source": [
    "liste = list('deneme')\n",
    "liste"
   ]
  },
  {
   "cell_type": "code",
   "execution_count": 101,
   "id": "062f5094",
   "metadata": {},
   "outputs": [
    {
     "data": {
      "text/plain": [
       "['d', 'e', 'n', 'e', 'm', 'e']"
      ]
     },
     "execution_count": 101,
     "metadata": {},
     "output_type": "execute_result"
    }
   ],
   "source": [
    "liste = [*'deneme']\n",
    "liste"
   ]
  },
  {
   "cell_type": "code",
   "execution_count": 106,
   "id": "f79598d9",
   "metadata": {},
   "outputs": [
    {
     "data": {
      "text/plain": [
       "(str, 'deneme')"
      ]
     },
     "execution_count": 106,
     "metadata": {},
     "output_type": "execute_result"
    }
   ],
   "source": [
    "tuple1 = ('deneme')\n",
    "type(tuple1), tuple1"
   ]
  },
  {
   "cell_type": "code",
   "execution_count": 31,
   "id": "c3d79853",
   "metadata": {},
   "outputs": [
    {
     "data": {
      "text/plain": [
       "(tuple, ('deneme',))"
      ]
     },
     "execution_count": 31,
     "metadata": {},
     "output_type": "execute_result"
    }
   ],
   "source": [
    "tuple1 = 'deneme',\n",
    "type(tuple1), tuple1"
   ]
  },
  {
   "cell_type": "code",
   "execution_count": 32,
   "id": "28f934c2",
   "metadata": {},
   "outputs": [
    {
     "data": {
      "text/plain": [
       "('d', 'e', 'n', 'e', 'm', 'e')"
      ]
     },
     "execution_count": 32,
     "metadata": {},
     "output_type": "execute_result"
    }
   ],
   "source": [
    "tuple1 = *'deneme',\n",
    "tuple1"
   ]
  },
  {
   "cell_type": "code",
   "execution_count": 33,
   "id": "230819ce",
   "metadata": {},
   "outputs": [
    {
     "data": {
      "text/plain": [
       "('d', 'e', 'n', 'e', 'm', 'e')"
      ]
     },
     "execution_count": 33,
     "metadata": {},
     "output_type": "execute_result"
    }
   ],
   "source": [
    "tuple1 = (*'deneme',)\n",
    "tuple1"
   ]
  },
  {
   "cell_type": "code",
   "execution_count": 42,
   "id": "08508a9d",
   "metadata": {},
   "outputs": [
    {
     "data": {
      "text/plain": [
       "{'d', 'e', 'm', 'n'}"
      ]
     },
     "execution_count": 42,
     "metadata": {},
     "output_type": "execute_result"
    }
   ],
   "source": [
    "set1 = set('deneme')\n",
    "set1"
   ]
  },
  {
   "cell_type": "code",
   "execution_count": 43,
   "id": "d99cb110",
   "metadata": {},
   "outputs": [
    {
     "data": {
      "text/plain": [
       "{'deneme'}"
      ]
     },
     "execution_count": 43,
     "metadata": {},
     "output_type": "execute_result"
    }
   ],
   "source": [
    "set1 = set(['deneme'])\n",
    "set1"
   ]
  },
  {
   "cell_type": "code",
   "execution_count": 41,
   "id": "66721f24",
   "metadata": {},
   "outputs": [
    {
     "data": {
      "text/plain": [
       "{'d', 'e', 'm', 'n'}"
      ]
     },
     "execution_count": 41,
     "metadata": {},
     "output_type": "execute_result"
    }
   ],
   "source": [
    "set1 = set('deneme',)\n",
    "set1"
   ]
  },
  {
   "cell_type": "code",
   "execution_count": null,
   "id": "6b31f405",
   "metadata": {},
   "outputs": [],
   "source": []
  },
  {
   "cell_type": "markdown",
   "id": "e59923ba",
   "metadata": {},
   "source": [
    "# retun - yield"
   ]
  },
  {
   "cell_type": "code",
   "execution_count": 125,
   "id": "71f18d60",
   "metadata": {},
   "outputs": [
    {
     "data": {
      "text/plain": [
       "0"
      ]
     },
     "execution_count": 125,
     "metadata": {},
     "output_type": "execute_result"
    }
   ],
   "source": [
    "def num_list(num):\n",
    "    for i in range(num):  # 0 durdu - 1 defa calıstı\n",
    "        return i\n",
    "\n",
    "num_list(10)"
   ]
  },
  {
   "cell_type": "code",
   "execution_count": 47,
   "id": "775bf5c6",
   "metadata": {},
   "outputs": [
    {
     "name": "stdout",
     "output_type": "stream",
     "text": [
      "<generator object num_list at 0x000001A6FAF7C510>\n",
      "0 1 2 3 4 5 6 7 8 9\n"
     ]
    }
   ],
   "source": [
    "def num_list(num):\n",
    "    for i in range(num):  # num kadar calıstı\n",
    "        yield i\n",
    "\n",
    "result = num_list(10)  # generator \n",
    "print(result)\n",
    "print(*result)"
   ]
  },
  {
   "cell_type": "code",
   "execution_count": 49,
   "id": "053b9fa5",
   "metadata": {},
   "outputs": [
    {
     "name": "stdout",
     "output_type": "stream",
     "text": [
      "[0, 1, 2, 3, 4, 5, 6, 7, 8, 9]\n"
     ]
    }
   ],
   "source": [
    "def num_list(num):\n",
    "    for i in range(num):  # num kadar calıstı\n",
    "        yield i\n",
    "\n",
    "result = num_list(10)  # generator \n",
    "print(list(result))"
   ]
  },
  {
   "cell_type": "code",
   "execution_count": null,
   "id": "87ed3f1c",
   "metadata": {},
   "outputs": [],
   "source": []
  },
  {
   "cell_type": "markdown",
   "id": "e806f35e",
   "metadata": {},
   "source": [
    "# chr(), ord()"
   ]
  },
  {
   "cell_type": "code",
   "execution_count": 54,
   "id": "b97bf9d4",
   "metadata": {},
   "outputs": [
    {
     "name": "stdout",
     "output_type": "stream",
     "text": [
      "<class 'list'> A B C D E F G H I J K L M N O P Q R S T U V W X Y Z\n"
     ]
    }
   ],
   "source": [
    "def num_list(start, stop):\n",
    "    for i in range(start, stop):  \n",
    "        yield chr(i)\n",
    "\n",
    "result_list = list(num_list(65, 91))\n",
    "\n",
    "print(type(result_list), *result_list)"
   ]
  },
  {
   "cell_type": "code",
   "execution_count": null,
   "id": "6178eb5c",
   "metadata": {},
   "outputs": [],
   "source": []
  },
  {
   "cell_type": "code",
   "execution_count": 55,
   "id": "f4bd896a",
   "metadata": {},
   "outputs": [
    {
     "name": "stdout",
     "output_type": "stream",
     "text": [
      "65 66 67 68 69 70 71 72 73 74 75 76 77 78 79 80 81 82 83 84 85 86 87 88 89 90\n"
     ]
    }
   ],
   "source": [
    "def num_list(str_list):\n",
    "    for i in str_list:  \n",
    "        yield ord(i)\n",
    "\n",
    "result_num = num_list(result_list)\n",
    "print(*result_num)"
   ]
  },
  {
   "cell_type": "code",
   "execution_count": null,
   "id": "e156935a",
   "metadata": {},
   "outputs": [],
   "source": []
  },
  {
   "cell_type": "markdown",
   "id": "908fce5c",
   "metadata": {},
   "source": [
    "# list Comprehension (list com oluşturma) - (list-tuple-set-dict kullanımı)"
   ]
  },
  {
   "cell_type": "markdown",
   "id": "3b627c16",
   "metadata": {},
   "source": [
    "```\n",
    "1. newlist = [x for x in fruits]\n",
    "\n",
    "2. newlist = [x for x in fruits if x != \"apple\"]\n",
    "\n",
    "3. newlist = [x if x != \"banana\" else \"orange\" for x in fruits]\n",
    "\n",
    "```"
   ]
  },
  {
   "cell_type": "code",
   "execution_count": 135,
   "id": "38ac4aac",
   "metadata": {},
   "outputs": [
    {
     "data": {
      "text/plain": [
       "[0, 1, 2, 3, 4, 5, 6, 7, 8, 9]"
      ]
     },
     "execution_count": 135,
     "metadata": {},
     "output_type": "execute_result"
    }
   ],
   "source": [
    "liste = [*range(10)]\n",
    "liste"
   ]
  },
  {
   "cell_type": "code",
   "execution_count": 141,
   "id": "7ca779ad",
   "metadata": {},
   "outputs": [
    {
     "data": {
      "text/plain": [
       "[0, 1, 2, 3, 4, 5, 6, 7, 8, 9]"
      ]
     },
     "execution_count": 141,
     "metadata": {},
     "output_type": "execute_result"
    }
   ],
   "source": [
    "bos = []\n",
    "\n",
    "for x in liste:\n",
    "    bos.append(x)\n",
    "\n",
    "bos"
   ]
  },
  {
   "cell_type": "code",
   "execution_count": 142,
   "id": "ae9324a2",
   "metadata": {},
   "outputs": [
    {
     "data": {
      "text/plain": [
       "[0, 1, 2, 3, 4, 5, 6, 7, 8, 9]"
      ]
     },
     "execution_count": 142,
     "metadata": {},
     "output_type": "execute_result"
    }
   ],
   "source": [
    "newlist = [x for x in liste]\n",
    "newlist"
   ]
  },
  {
   "cell_type": "code",
   "execution_count": 156,
   "id": "c087b8ea",
   "metadata": {},
   "outputs": [
    {
     "name": "stdout",
     "output_type": "stream",
     "text": [
      "deneme\tde2\n",
      "deneme\tde2deneme\n",
      "de2"
     ]
    }
   ],
   "source": [
    "print(end='deneme\\tde2\\n')  # list comp alakası yok\n",
    "print(end='deneme\\tde2')\n",
    "print(end='deneme\\nde2')"
   ]
  },
  {
   "cell_type": "code",
   "execution_count": 160,
   "id": "0a0996a0",
   "metadata": {},
   "outputs": [
    {
     "name": "stdout",
     "output_type": "stream",
     "text": [
      "['0 str', '1 str', '2 str', '3 str', '4 str', '5 str', '6 str', '7 str', '8 str', '9 str']\n"
     ]
    }
   ],
   "source": [
    "newlist = [f'{x} str' for x in liste]\n",
    "print(newlist)"
   ]
  },
  {
   "cell_type": "markdown",
   "id": "65abeeac",
   "metadata": {},
   "source": [
    "# 2. newlist = [x for x in fruits if x != \"apple\"]"
   ]
  },
  {
   "cell_type": "code",
   "execution_count": 161,
   "id": "5ec2334a",
   "metadata": {},
   "outputs": [
    {
     "data": {
      "text/plain": [
       "[0, 1, 2, 3, 4, 5, 6, 7, 8, 9]"
      ]
     },
     "execution_count": 161,
     "metadata": {},
     "output_type": "execute_result"
    }
   ],
   "source": [
    "liste = [*range(10)]\n",
    "liste"
   ]
  },
  {
   "cell_type": "code",
   "execution_count": 163,
   "id": "c3ac5f8b",
   "metadata": {},
   "outputs": [
    {
     "data": {
      "text/plain": [
       "[0, 2, 4, 6, 8]"
      ]
     },
     "execution_count": 163,
     "metadata": {},
     "output_type": "execute_result"
    }
   ],
   "source": [
    "citlist = []\n",
    "\n",
    "for i in liste:\n",
    "    if i%2 == 0:\n",
    "        citlist.append(i)\n",
    "\n",
    "citlist"
   ]
  },
  {
   "cell_type": "code",
   "execution_count": 165,
   "id": "8b3f4b9f",
   "metadata": {},
   "outputs": [
    {
     "data": {
      "text/plain": [
       "[0, 2, 4, 6, 8]"
      ]
     },
     "execution_count": 165,
     "metadata": {},
     "output_type": "execute_result"
    }
   ],
   "source": [
    "[i for i in liste if i%2 == 0]"
   ]
  },
  {
   "cell_type": "code",
   "execution_count": 168,
   "id": "9ab18008",
   "metadata": {},
   "outputs": [
    {
     "data": {
      "text/plain": [
       "[1, 3, 5, 7, 9]"
      ]
     },
     "execution_count": 168,
     "metadata": {},
     "output_type": "execute_result"
    }
   ],
   "source": [
    "citlist = []\n",
    "\n",
    "for x in liste:\n",
    "    if x%2 == 1:  # \n",
    "        citlist.append(x)\n",
    "\n",
    "citlist"
   ]
  },
  {
   "cell_type": "code",
   "execution_count": 169,
   "id": "a1bab437",
   "metadata": {},
   "outputs": [
    {
     "data": {
      "text/plain": [
       "[1, 3, 5, 7, 9]"
      ]
     },
     "execution_count": 169,
     "metadata": {},
     "output_type": "execute_result"
    }
   ],
   "source": [
    "[x for x in liste if x%2 == 1]"
   ]
  },
  {
   "cell_type": "markdown",
   "id": "bb590624",
   "metadata": {},
   "source": [
    "# 3. newlist = [x if x != \"banana\" else \"orange\" for x in fruits]"
   ]
  },
  {
   "cell_type": "code",
   "execution_count": 1,
   "id": "ea403dc2",
   "metadata": {},
   "outputs": [
    {
     "data": {
      "text/plain": [
       "[0, 1, 2, 3, 4, 5, 6, 7, 8, 9]"
      ]
     },
     "execution_count": 1,
     "metadata": {},
     "output_type": "execute_result"
    }
   ],
   "source": [
    "liste = [0, 1, 2, 3, 4, 5, 6, 7, 8, 9]\n",
    "liste"
   ]
  },
  {
   "cell_type": "code",
   "execution_count": 172,
   "id": "8f7a830a",
   "metadata": {},
   "outputs": [
    {
     "data": {
      "text/plain": [
       "([0, 2, 4, 6, 8], [1, 3, 5, 7, 9])"
      ]
     },
     "execution_count": 172,
     "metadata": {},
     "output_type": "execute_result"
    }
   ],
   "source": [
    "c_list = []\n",
    "t_list = []\n",
    "\n",
    "for i in liste:\n",
    "    if i%2 == 0:  # çift\n",
    "        c_list.append(i) \n",
    "\n",
    "    else: # tek\n",
    "        t_list.append(i)\n",
    "c_list, t_list\n"
   ]
  },
  {
   "cell_type": "code",
   "execution_count": 2,
   "id": "a4a2336b",
   "metadata": {},
   "outputs": [],
   "source": [
    "c_list = []\n",
    "t_list = []"
   ]
  },
  {
   "cell_type": "code",
   "execution_count": 3,
   "id": "2c5505c9",
   "metadata": {},
   "outputs": [
    {
     "data": {
      "text/plain": [
       "[0, 'tek', 2, 'tek', 4, 'tek', 6, 'tek', 8, 'tek']"
      ]
     },
     "execution_count": 3,
     "metadata": {},
     "output_type": "execute_result"
    }
   ],
   "source": [
    "[i if i%2 == 0  else 'tek' for i in liste]"
   ]
  },
  {
   "cell_type": "code",
   "execution_count": 3,
   "id": "7ebc6e5a",
   "metadata": {},
   "outputs": [
    {
     "data": {
      "text/plain": [
       "([0, 2, 4, 6, 8], [1, 3, 5, 7, 9])"
      ]
     },
     "execution_count": 3,
     "metadata": {},
     "output_type": "execute_result"
    }
   ],
   "source": [
    "[c_list.append(i) if i%2 == 0  else t_list.append(i) for i in liste]\n",
    "c_list, t_list\n"
   ]
  },
  {
   "cell_type": "code",
   "execution_count": null,
   "id": "59d9a16a",
   "metadata": {},
   "outputs": [],
   "source": []
  },
  {
   "cell_type": "code",
   "execution_count": 5,
   "id": "a5626326",
   "metadata": {},
   "outputs": [
    {
     "data": {
      "text/plain": [
       "['eleman', 'eleman']"
      ]
     },
     "execution_count": 5,
     "metadata": {},
     "output_type": "execute_result"
    }
   ],
   "source": [
    "['eleman' for i in range(2)]"
   ]
  },
  {
   "cell_type": "code",
   "execution_count": 6,
   "id": "abb43dbc",
   "metadata": {},
   "outputs": [
    {
     "data": {
      "text/plain": [
       "[[], []]"
      ]
     },
     "execution_count": 6,
     "metadata": {},
     "output_type": "execute_result"
    }
   ],
   "source": [
    "[[]  for i in range(2)]"
   ]
  },
  {
   "cell_type": "markdown",
   "id": "74329497",
   "metadata": {},
   "source": [
    "z = ['1.liste' if i%2 == 0 else 'liste' for i in range(2)]"
   ]
  },
  {
   "cell_type": "code",
   "execution_count": 7,
   "id": "cc4770ff",
   "metadata": {},
   "outputs": [
    {
     "data": {
      "text/plain": [
       "[[1, 3, 5, 7, 9, 11, 13, 15, 17, 19], [0, 2, 4, 6, 8, 10, 12, 14, 16, 18]]"
      ]
     },
     "execution_count": 7,
     "metadata": {},
     "output_type": "execute_result"
    }
   ],
   "source": [
    "z = [[i for i in range(20) if i%2 == 0] if i else [i for i in range(20) if i%2 != 0] for i in range(2)]\n",
    "z"
   ]
  },
  {
   "cell_type": "code",
   "execution_count": 8,
   "id": "a23615fb",
   "metadata": {},
   "outputs": [
    {
     "data": {
      "text/plain": [
       "[[0, 2, 4, 6, 8, 10, 12, 14, 16, 18], [1, 3, 5, 7, 9, 11, 13, 15, 17, 19]]"
      ]
     },
     "execution_count": 8,
     "metadata": {},
     "output_type": "execute_result"
    }
   ],
   "source": [
    "z = [[i for i in range(20) if i%2 == 0] , [i for i in range(20) if i%2 != 0]]\n",
    "z\n"
   ]
  },
  {
   "cell_type": "code",
   "execution_count": 9,
   "id": "fb8ba666",
   "metadata": {},
   "outputs": [
    {
     "data": {
      "text/plain": [
       "[[0, 2, 4, 6, 8, 10, 12, 14, 16, 18, 1, 3, 5, 7, 9, 11, 13, 15, 17, 19]]"
      ]
     },
     "execution_count": 9,
     "metadata": {},
     "output_type": "execute_result"
    }
   ],
   "source": [
    "z = [[i for i in range(20) if i%2 == 0] + [i for i in range(20) if i%2 != 0]]\n",
    "z"
   ]
  },
  {
   "cell_type": "markdown",
   "id": "187cdf8c",
   "metadata": {},
   "source": [
    "# ders soru"
   ]
  },
  {
   "cell_type": "markdown",
   "id": "3b754fc7",
   "metadata": {},
   "source": [
    "# for çoklu if like and"
   ]
  },
  {
   "cell_type": "code",
   "execution_count": null,
   "id": "e9cb19f5",
   "metadata": {},
   "outputs": [],
   "source": [
    "liste = [0, 1, 2, 3, 4, 5, 6, 7, 8, 9]\n",
    "liste"
   ]
  },
  {
   "cell_type": "code",
   "execution_count": 183,
   "id": "59825276",
   "metadata": {},
   "outputs": [
    {
     "data": {
      "text/plain": [
       "[0, 30]"
      ]
     },
     "execution_count": 183,
     "metadata": {},
     "output_type": "execute_result"
    }
   ],
   "source": [
    "z = [i for i in range(41) if i%3==0 if i%5==0 if i%2==0]\n",
    "z"
   ]
  },
  {
   "cell_type": "code",
   "execution_count": 184,
   "id": "75d98207",
   "metadata": {},
   "outputs": [
    {
     "data": {
      "text/plain": [
       "[0, 30]"
      ]
     },
     "execution_count": 184,
     "metadata": {},
     "output_type": "execute_result"
    }
   ],
   "source": [
    "z = [i for i in range(41) if i%3==0 and i%5==0 and i%2==0]\n",
    "z"
   ]
  },
  {
   "cell_type": "code",
   "execution_count": null,
   "id": "58af8a11",
   "metadata": {},
   "outputs": [],
   "source": []
  },
  {
   "cell_type": "markdown",
   "id": "7351fa8d",
   "metadata": {},
   "source": [
    "# iç içe for"
   ]
  },
  {
   "cell_type": "code",
   "execution_count": 1,
   "id": "550fa06f",
   "metadata": {},
   "outputs": [],
   "source": [
    "liste = ['orange', 'apple']"
   ]
  },
  {
   "cell_type": "code",
   "execution_count": 187,
   "id": "87ceab1b",
   "metadata": {},
   "outputs": [
    {
     "data": {
      "text/plain": [
       "['o', 'r', 'a', 'n', 'g', 'e', 'a', 'p', 'p', 'l', 'e']"
      ]
     },
     "execution_count": 187,
     "metadata": {},
     "output_type": "execute_result"
    }
   ],
   "source": [
    "kel_lis = []\n",
    "\n",
    "for i in liste:\n",
    "    for j in i:\n",
    "        kel_lis.append(j)\n",
    "kel_lis"
   ]
  },
  {
   "cell_type": "code",
   "execution_count": 58,
   "id": "91efed64",
   "metadata": {},
   "outputs": [
    {
     "data": {
      "text/plain": [
       "['o', 'r', 'a', 'n', 'g', 'e', 'a', 'p', 'p', 'l', 'e']"
      ]
     },
     "execution_count": 58,
     "metadata": {},
     "output_type": "execute_result"
    }
   ],
   "source": [
    "[j for i in liste for j in i]"
   ]
  },
  {
   "cell_type": "code",
   "execution_count": 2,
   "id": "d3a63472",
   "metadata": {},
   "outputs": [
    {
     "ename": "NameError",
     "evalue": "name 'i' is not defined",
     "output_type": "error",
     "traceback": [
      "\u001b[1;31m---------------------------------------------------------------------------\u001b[0m",
      "\u001b[1;31mNameError\u001b[0m                                 Traceback (most recent call last)",
      "\u001b[1;32md:\\Masaüstü\\Yeni klasör (2)\\GTekrar-2022-04-03-print-Asteriks-yertut-yield-listComp-lambda.ipynb Cell 155'\u001b[0m in \u001b[0;36m<cell line: 1>\u001b[1;34m()\u001b[0m\n\u001b[1;32m----> <a href='vscode-notebook-cell:/d%3A/Masa%C3%BCst%C3%BC/Yeni%20klas%C3%B6r%20%282%29/GTekrar-2022-04-03-print-Asteriks-yertut-yield-listComp-lambda.ipynb#ch0000207?line=0'>1</a>\u001b[0m [j \u001b[39mfor\u001b[39;00m j \u001b[39min\u001b[39;00m i \u001b[39mfor\u001b[39;00m i \u001b[39min\u001b[39;00m liste]\n",
      "\u001b[1;31mNameError\u001b[0m: name 'i' is not defined"
     ]
    }
   ],
   "source": [
    "[j for j in i for i in liste]  # hatalı"
   ]
  },
  {
   "cell_type": "code",
   "execution_count": null,
   "id": "774b4da1",
   "metadata": {},
   "outputs": [],
   "source": [
    "kel_lis = []\n",
    "\n",
    "for i in liste:\n",
    "    for j in i:\n",
    "        if j !='p':\n",
    "            kel_lis.append(j)\n",
    "kel_lis"
   ]
  },
  {
   "cell_type": "code",
   "execution_count": 2,
   "id": "e0363da1",
   "metadata": {},
   "outputs": [
    {
     "data": {
      "text/plain": [
       "['o', 'r', 'a', 'n', 'g', 'e', 'a', 'p', 'p', 'l', 'e']"
      ]
     },
     "execution_count": 2,
     "metadata": {},
     "output_type": "execute_result"
    }
   ],
   "source": [
    "[j  for i in liste for j in i]  # bütün harfler tek liste (for - if) mantığı"
   ]
  },
  {
   "cell_type": "code",
   "execution_count": 3,
   "id": "cb94ba07",
   "metadata": {},
   "outputs": [
    {
     "data": {
      "text/plain": [
       "['o', 'r', 'a', 'n', 'g', 'e', 'a', 'l', 'e']"
      ]
     },
     "execution_count": 3,
     "metadata": {},
     "output_type": "execute_result"
    }
   ],
   "source": [
    "[j  for i in liste for j in i if j !='p' ]  # bütün harfler tek liste"
   ]
  },
  {
   "cell_type": "code",
   "execution_count": 1,
   "id": "82011b3f",
   "metadata": {},
   "outputs": [],
   "source": [
    "liste = ['orange', 'apple']"
   ]
  },
  {
   "cell_type": "code",
   "execution_count": 4,
   "id": "c233ce9d",
   "metadata": {},
   "outputs": [
    {
     "data": {
      "text/plain": [
       "[1, 1, 1, 1, 1, 1, 1, 1]"
      ]
     },
     "execution_count": 4,
     "metadata": {},
     "output_type": "execute_result"
    }
   ],
   "source": [
    "[1 for i in range(8)]"
   ]
  },
  {
   "cell_type": "code",
   "execution_count": 5,
   "id": "a6187d37",
   "metadata": {},
   "outputs": [
    {
     "data": {
      "text/plain": [
       "[[], [], [], [], [], [], [], []]"
      ]
     },
     "execution_count": 5,
     "metadata": {},
     "output_type": "execute_result"
    }
   ],
   "source": [
    "[[] for i in range(8)]"
   ]
  },
  {
   "cell_type": "code",
   "execution_count": 2,
   "id": "d1d68479",
   "metadata": {},
   "outputs": [
    {
     "data": {
      "text/plain": [
       "[['o', 'r', 'a', 'n', 'g', 'e'], ['a', 'p', 'p', 'l', 'e']]"
      ]
     },
     "execution_count": 2,
     "metadata": {},
     "output_type": "execute_result"
    }
   ],
   "source": [
    "[[j  for j in i] for i in liste]  # iki ayrı liste"
   ]
  },
  {
   "cell_type": "code",
   "execution_count": null,
   "id": "9cf24459",
   "metadata": {},
   "outputs": [],
   "source": []
  },
  {
   "cell_type": "code",
   "execution_count": 4,
   "id": "7488e48f",
   "metadata": {},
   "outputs": [],
   "source": [
    "int_list = [11, 12]"
   ]
  },
  {
   "cell_type": "code",
   "execution_count": 6,
   "id": "7d3025e9",
   "metadata": {},
   "outputs": [
    {
     "data": {
      "text/plain": [
       "[[0, 1, 2, 3, 4, 5, 6, 7, 8, 9, 10], [0, 1, 2, 3, 4, 5, 6, 7, 8, 9, 10, 11]]"
      ]
     },
     "execution_count": 6,
     "metadata": {},
     "output_type": "execute_result"
    }
   ],
   "source": [
    "[[j  for j in range(i)] for i in int_list]  # iki ayrı liste"
   ]
  },
  {
   "cell_type": "code",
   "execution_count": null,
   "id": "61f6bf77",
   "metadata": {},
   "outputs": [],
   "source": []
  },
  {
   "cell_type": "code",
   "execution_count": 26,
   "id": "662ad5d9",
   "metadata": {},
   "outputs": [
    {
     "name": "stdout",
     "output_type": "stream",
     "text": [
      "10 5\n"
     ]
    }
   ],
   "source": [
    "a = b = 5\n",
    "a = a+b\n",
    "print(a, b)"
   ]
  },
  {
   "cell_type": "code",
   "execution_count": 29,
   "id": "0957be53",
   "metadata": {},
   "outputs": [
    {
     "data": {
      "text/plain": [
       "<enumerate at 0x1d9fbec8d40>"
      ]
     },
     "execution_count": 29,
     "metadata": {},
     "output_type": "execute_result"
    }
   ],
   "source": [
    "enumerate('a')"
   ]
  },
  {
   "cell_type": "code",
   "execution_count": 30,
   "id": "75b69621",
   "metadata": {},
   "outputs": [],
   "source": [
    "bos_tek = bos_cif = []  # aynı bellek- yer\n",
    "bos_tek = []\n",
    "bos_cif = []\n"
   ]
  },
  {
   "cell_type": "code",
   "execution_count": 25,
   "id": "a8f6b33c",
   "metadata": {},
   "outputs": [
    {
     "name": "stdout",
     "output_type": "stream",
     "text": [
      "[0, 2, 4, 6, 8, 10, 12, 14, 16, 18]\n",
      "[1, 3, 5, 7, 9, 11, 13, 15, 17, 19]\n"
     ]
    }
   ],
   "source": [
    "for i in range(2):  # 0, 1\n",
    "    if i:\n",
    "        for j in range(20):\n",
    "            if j%2 == 0:\n",
    "                bos_cif.append(j)\n",
    "    else:\n",
    "        for k in range(20):\n",
    "            if k%2 != 0:\n",
    "                bos_tek.append(k)\n",
    "\n",
    "print(bos_cif)\n",
    "print(bos_tek)"
   ]
  },
  {
   "cell_type": "code",
   "execution_count": 31,
   "id": "63491f65",
   "metadata": {},
   "outputs": [
    {
     "name": "stdout",
     "output_type": "stream",
     "text": [
      "[0, 2, 4, 6, 8, 10, 12, 14, 16, 18]\n",
      "[1, 3, 5, 7, 9, 11, 13, 15, 17, 19]\n"
     ]
    }
   ],
   "source": [
    "for i in range(2):\n",
    "    if i:\n",
    "        bos_cif = [i for i in range(20) if i%2 == 0]\n",
    "    else:\n",
    "        bos_tek = [i for i in range(20) if i%2 != 0]\n",
    "\n",
    "print(bos_cif)\n",
    "print(bos_tek)"
   ]
  },
  {
   "cell_type": "code",
   "execution_count": 4,
   "id": "1260d4b0",
   "metadata": {},
   "outputs": [
    {
     "data": {
      "text/plain": [
       "[[1, 3, 5, 7, 9, 11, 13, 15, 17, 19], [0, 2, 4, 6, 8, 10, 12, 14, 16, 18]]"
      ]
     },
     "execution_count": 4,
     "metadata": {},
     "output_type": "execute_result"
    }
   ],
   "source": [
    "z = [[i for i in range(20) if i%2 == 0] if i else [i for i in range(20) if i%2 != 0] for i in range(2)]\n",
    "z"
   ]
  },
  {
   "cell_type": "code",
   "execution_count": null,
   "id": "85f7ea29",
   "metadata": {},
   "outputs": [],
   "source": []
  },
  {
   "cell_type": "markdown",
   "id": "f8e94cbb",
   "metadata": {},
   "source": [
    "# list - tuple - set - dict ile (list comprehension)"
   ]
  },
  {
   "cell_type": "code",
   "execution_count": 15,
   "id": "1864d0a8",
   "metadata": {},
   "outputs": [
    {
     "data": {
      "text/plain": [
       "[0, 1, 2, 3, 4, 5, 6, 7, 8, 9]"
      ]
     },
     "execution_count": 15,
     "metadata": {},
     "output_type": "execute_result"
    }
   ],
   "source": [
    "a = [i for i in range(10)]\n",
    "a"
   ]
  },
  {
   "cell_type": "markdown",
   "id": "ac5f9933",
   "metadata": {},
   "source": [
    "## tuple list Comp"
   ]
  },
  {
   "cell_type": "code",
   "execution_count": 17,
   "id": "cee896bf",
   "metadata": {},
   "outputs": [
    {
     "data": {
      "text/plain": [
       "(0, 1, 2, 3, 4, 5, 6, 7, 8, 9)"
      ]
     },
     "execution_count": 17,
     "metadata": {},
     "output_type": "execute_result"
    }
   ],
   "source": [
    "*range(10),"
   ]
  },
  {
   "cell_type": "code",
   "execution_count": 18,
   "id": "9a65aeeb",
   "metadata": {},
   "outputs": [
    {
     "data": {
      "text/plain": [
       "(0, 1, 2, 3, 4, 5, 6, 7, 8, 9)"
      ]
     },
     "execution_count": 18,
     "metadata": {},
     "output_type": "execute_result"
    }
   ],
   "source": [
    "b = *(i for i in range(10)),\n",
    "b"
   ]
  },
  {
   "cell_type": "code",
   "execution_count": 19,
   "id": "82359f82",
   "metadata": {},
   "outputs": [
    {
     "data": {
      "text/plain": [
       "([0], [1], [2], [3], [4], [5], [6], [7], [8], [9])"
      ]
     },
     "execution_count": 19,
     "metadata": {},
     "output_type": "execute_result"
    }
   ],
   "source": [
    "b = *([i] for i in range(10)),\n",
    "b"
   ]
  },
  {
   "cell_type": "code",
   "execution_count": null,
   "id": "92e8b89c",
   "metadata": {},
   "outputs": [],
   "source": []
  },
  {
   "cell_type": "markdown",
   "id": "d3291b2f",
   "metadata": {},
   "source": [
    "## set list Comp"
   ]
  },
  {
   "cell_type": "code",
   "execution_count": 22,
   "id": "3f211f65",
   "metadata": {},
   "outputs": [
    {
     "data": {
      "text/plain": [
       "{'d', 'e', 'm', 'n'}"
      ]
     },
     "execution_count": 22,
     "metadata": {},
     "output_type": "execute_result"
    }
   ],
   "source": [
    "c = set('deneme')  \n",
    "c"
   ]
  },
  {
   "cell_type": "code",
   "execution_count": 27,
   "id": "293a0616",
   "metadata": {},
   "outputs": [
    {
     "data": {
      "text/plain": [
       "(set, {0, 1, 2, 3, 4, 5, 6, 7, 8, 9})"
      ]
     },
     "execution_count": 27,
     "metadata": {},
     "output_type": "execute_result"
    }
   ],
   "source": [
    "set_oldu = {i for i in range(10)}\n",
    "type(d), set_oldu"
   ]
  },
  {
   "cell_type": "code",
   "execution_count": 28,
   "id": "52256c88",
   "metadata": {},
   "outputs": [
    {
     "data": {
      "text/plain": [
       "(set, {'d', 'e', 'm', 'n'})"
      ]
     },
     "execution_count": 28,
     "metadata": {},
     "output_type": "execute_result"
    }
   ],
   "source": [
    "set_oldu = {i for i in 'deneme'}\n",
    "type(d), set_oldu"
   ]
  },
  {
   "cell_type": "markdown",
   "id": "f52b0432",
   "metadata": {},
   "source": [
    "## dict Comprehension  - key, value (zip, enumarete, etc)"
   ]
  },
  {
   "cell_type": "code",
   "execution_count": 33,
   "id": "3dfe87f9",
   "metadata": {},
   "outputs": [
    {
     "data": {
      "text/plain": [
       "dict"
      ]
     },
     "execution_count": 33,
     "metadata": {},
     "output_type": "execute_result"
    }
   ],
   "source": [
    "dic = {}\n",
    "type(dic)"
   ]
  },
  {
   "cell_type": "code",
   "execution_count": 34,
   "id": "e61b94a4",
   "metadata": {},
   "outputs": [
    {
     "data": {
      "text/plain": [
       "dict"
      ]
     },
     "execution_count": 34,
     "metadata": {},
     "output_type": "execute_result"
    }
   ],
   "source": [
    "dic = dict()\n",
    "type(dic)"
   ]
  },
  {
   "cell_type": "code",
   "execution_count": 38,
   "id": "b9f8923c",
   "metadata": {},
   "outputs": [
    {
     "data": {
      "text/plain": [
       "(dict, {'a': 1, 12: 2})"
      ]
     },
     "execution_count": 38,
     "metadata": {},
     "output_type": "execute_result"
    }
   ],
   "source": [
    "dic = { 'a' : 1, 12 : 2 }\n",
    "type(dic), dic"
   ]
  },
  {
   "cell_type": "code",
   "execution_count": 43,
   "id": "22862ab6",
   "metadata": {},
   "outputs": [
    {
     "data": {
      "text/plain": [
       "(dict, {'a': 1, 'banana': 2})"
      ]
     },
     "execution_count": 43,
     "metadata": {},
     "output_type": "execute_result"
    }
   ],
   "source": [
    "dic = dict( a = 1, banana = 2 )\n",
    "type(dic), dic "
   ]
  },
  {
   "cell_type": "code",
   "execution_count": null,
   "id": "9d092153",
   "metadata": {},
   "outputs": [],
   "source": []
  },
  {
   "cell_type": "code",
   "execution_count": 23,
   "id": "fb985a5d",
   "metadata": {},
   "outputs": [
    {
     "data": {
      "text/plain": [
       "[0, 1, 2, 3, 4, 5, 6, 7, 8, 9]"
      ]
     },
     "execution_count": 23,
     "metadata": {},
     "output_type": "execute_result"
    }
   ],
   "source": [
    "a = [i for i in range(10)]\n",
    "a"
   ]
  },
  {
   "cell_type": "code",
   "execution_count": 33,
   "id": "5d74bc96",
   "metadata": {},
   "outputs": [
    {
     "name": "stdout",
     "output_type": "stream",
     "text": [
      "<class 'dict'> {0: 0, 1: 1, 2: 2, 3: 3, 4: 4, 5: 5, 6: 6, 7: 7, 8: 8, 9: 9}\n"
     ]
    }
   ],
   "source": [
    "dic_oldu = {i:i for i in range(10)}\n",
    "print(type(dic_oldu), dic_oldu)"
   ]
  },
  {
   "cell_type": "code",
   "execution_count": null,
   "id": "5231be45",
   "metadata": {},
   "outputs": [],
   "source": []
  },
  {
   "cell_type": "code",
   "execution_count": 37,
   "id": "b7049ad1",
   "metadata": {},
   "outputs": [
    {
     "data": {
      "text/plain": [
       "{1: 0, 2: 0, 3: 0, 4: 0, 5: 0, 6: 0, 7: 0, 8: 0, 9: 0}"
      ]
     },
     "execution_count": 37,
     "metadata": {},
     "output_type": "execute_result"
    }
   ],
   "source": [
    "liste = [1, 2, 3, 4, 5, 6, 7, 8, 9]\n",
    "dic = dict().fromkeys(liste, 0) \n",
    "dic"
   ]
  },
  {
   "cell_type": "code",
   "execution_count": 38,
   "id": "e3e32c66",
   "metadata": {},
   "outputs": [
    {
     "data": {
      "text/plain": [
       "(dict, {1: 0, 2: 0, 3: 0, 4: 0, 5: 0, 6: 0, 7: 0, 8: 0, 9: 0})"
      ]
     },
     "execution_count": 38,
     "metadata": {},
     "output_type": "execute_result"
    }
   ],
   "source": [
    "d = {i:0 for i in liste}\n",
    "type(d), d"
   ]
  },
  {
   "cell_type": "code",
   "execution_count": 39,
   "id": "4b19e30e",
   "metadata": {},
   "outputs": [
    {
     "data": {
      "text/plain": [
       "(dict, {0: 0, 1: 0, 2: 0, 3: 0, 4: 0, 5: 0, 6: 0, 7: 0, 8: 0, 9: 0})"
      ]
     },
     "execution_count": 39,
     "metadata": {},
     "output_type": "execute_result"
    }
   ],
   "source": [
    "d = {i:0 for i in range(10)}\n",
    "type(d), d"
   ]
  },
  {
   "cell_type": "code",
   "execution_count": 32,
   "id": "9bb6290c",
   "metadata": {},
   "outputs": [
    {
     "data": {
      "text/plain": [
       "(dict, {'d': 0, 'e': 0, 'n': 0, 'm': 0})"
      ]
     },
     "execution_count": 32,
     "metadata": {},
     "output_type": "execute_result"
    }
   ],
   "source": [
    "d = {i:0 for i in 'deneme'}\n",
    "type(d), d"
   ]
  },
  {
   "cell_type": "code",
   "execution_count": null,
   "id": "ee33ca6e",
   "metadata": {},
   "outputs": [],
   "source": []
  },
  {
   "cell_type": "markdown",
   "id": "ef137de0",
   "metadata": {},
   "source": [
    "# ternary if"
   ]
  },
  {
   "cell_type": "markdown",
   "id": "f690b8e5",
   "metadata": {},
   "source": [
    "```\n",
    "Klavyeden girilen 0 ile 999 arasındaki sayıların basamak sayısını ekrana yazdıran algoritma ?  - stringe cevirmeden"
   ]
  },
  {
   "cell_type": "code",
   "execution_count": 58,
   "id": "38783994",
   "metadata": {},
   "outputs": [
    {
     "name": "stdout",
     "output_type": "stream",
     "text": [
      "1 basamak\n"
     ]
    }
   ],
   "source": [
    "input_al = 9    # elif-koşulların yerleri değişirse hata oluşur\n",
    "\n",
    "if 0 <= input_al < 10:     # 0 <= input_al and input_al < 10\n",
    "    print('1 basamak')\n",
    "elif input_al < 100:     \n",
    "    print('2 basamak')\n",
    "elif input_al < 1000:     \n",
    "    print('3 basamak')\n",
    "else:\n",
    "    print('error')"
   ]
  },
  {
   "cell_type": "code",
   "execution_count": 62,
   "id": "3adb35bf",
   "metadata": {},
   "outputs": [
    {
     "name": "stdout",
     "output_type": "stream",
     "text": [
      "2 basamak\n"
     ]
    }
   ],
   "source": [
    "input_al = 994\n",
    "\n",
    "if 0 <= input_al < 10:     # 0 <= input_al and input_al < 10\n",
    "    print('1 basamak')\n",
    "elif 10 <= input_al < 100:     \n",
    "    print('2 basamak')\n",
    "elif 100 <= input_al < 1000:    \n",
    "    print('3 basamak')\n",
    "else:\n",
    "    print('error')"
   ]
  },
  {
   "cell_type": "code",
   "execution_count": null,
   "id": "81f64d52",
   "metadata": {},
   "outputs": [],
   "source": [
    "input_al = 994\n",
    "\n",
    "if 0 <= input_al < 10:     # 0 <= input_al and input_al < 10\n",
    "    print('1 basamak')\n",
    "else:\n",
    "    print('error')"
   ]
  },
  {
   "cell_type": "code",
   "execution_count": 64,
   "id": "f55241fc",
   "metadata": {},
   "outputs": [
    {
     "name": "stdout",
     "output_type": "stream",
     "text": [
      "error\n"
     ]
    }
   ],
   "source": [
    "input_al = 99\n",
    "\n",
    "print('1 basamak') if 0 <= input_al < 10 else print('error')"
   ]
  },
  {
   "cell_type": "code",
   "execution_count": null,
   "id": "601543d7",
   "metadata": {},
   "outputs": [],
   "source": [
    "input_al = 994\n",
    "\n",
    "if 0 <= input_al < 10:     # 0 <= input_al and input_al < 10\n",
    "    print('1 basamak')\n",
    "elif 10 <= input_al < 100:     \n",
    "    print('2 basamak')\n",
    "elif 100 <= input_al < 1000:    \n",
    "    print('3 basamak')\n",
    "else:\n",
    "    print('error')"
   ]
  },
  {
   "cell_type": "code",
   "execution_count": 71,
   "id": "9bdf34a7",
   "metadata": {},
   "outputs": [
    {
     "name": "stdout",
     "output_type": "stream",
     "text": [
      "3 basamak\n"
     ]
    }
   ],
   "source": [
    "input_al = 555\n",
    "print('1 basamak') if 0 <= input_al < 10 else print('2 basamak') if 10 <= input_al < 100 else print('3 basamak') if 100 <= input_al < 1000 else print('error')"
   ]
  },
  {
   "cell_type": "code",
   "execution_count": null,
   "id": "6c1e24db",
   "metadata": {},
   "outputs": [],
   "source": []
  },
  {
   "cell_type": "markdown",
   "id": "7b15315c",
   "metadata": {},
   "source": [
    "# özyinelemeli - recursive fonksiyonlar"
   ]
  },
  {
   "cell_type": "code",
   "execution_count": 42,
   "id": "76e5852b",
   "metadata": {},
   "outputs": [
    {
     "data": {
      "text/plain": [
       "120"
      ]
     },
     "execution_count": 42,
     "metadata": {},
     "output_type": "execute_result"
    }
   ],
   "source": [
    "def faktoriyel_f(num):\n",
    "    if num < 1:\n",
    "        return 1\n",
    "    else:\n",
    "        return num * faktoriyel_f(num-1)\n",
    "\n",
    "faktoriyel_f(5)"
   ]
  },
  {
   "cell_type": "code",
   "execution_count": 43,
   "id": "8223d393",
   "metadata": {},
   "outputs": [],
   "source": [
    "liste = [[1,[2,3], [[7]], [[]]], 0]  # [1, 2, 3, 7, 0]\n"
   ]
  },
  {
   "cell_type": "code",
   "execution_count": 63,
   "id": "b40c114d",
   "metadata": {},
   "outputs": [
    {
     "name": "stdout",
     "output_type": "stream",
     "text": [
      "[1, 2, 3, 7, 0]\n"
     ]
    }
   ],
   "source": [
    "liste = [[1,[2,3], [[7]], [[]]], 0]  # [1, 2, 3, 7, 0]\n",
    "\n",
    "def cözümm(liste):  \n",
    "    bos = []\n",
    "    for i in liste:\n",
    "        if type(i) != list:\n",
    "            bos.append(i)\n",
    "        else:\n",
    "            bos+=cözümm(i)  # [4] + [5] = [4, 5]\n",
    "    return bos\n",
    "  \n",
    "print(cözümm(liste)) "
   ]
  },
  {
   "cell_type": "code",
   "execution_count": 62,
   "id": "c97d0458",
   "metadata": {},
   "outputs": [
    {
     "data": {
      "text/plain": [
       "[4, 5]"
      ]
     },
     "execution_count": 62,
     "metadata": {},
     "output_type": "execute_result"
    }
   ],
   "source": [
    "[4] + [5]"
   ]
  },
  {
   "cell_type": "code",
   "execution_count": 53,
   "id": "2f7d923e",
   "metadata": {},
   "outputs": [
    {
     "data": {
      "text/plain": [
       "True"
      ]
     },
     "execution_count": 53,
     "metadata": {},
     "output_type": "execute_result"
    }
   ],
   "source": [
    "list == type(list())"
   ]
  },
  {
   "cell_type": "markdown",
   "id": "b62e1ded",
   "metadata": {},
   "source": [
    "# lambda (map-filter-3.sü)"
   ]
  },
  {
   "cell_type": "code",
   "execution_count": null,
   "id": "05531786",
   "metadata": {},
   "outputs": [],
   "source": []
  },
  {
   "cell_type": "code",
   "execution_count": null,
   "id": "aed38605",
   "metadata": {},
   "outputs": [],
   "source": []
  }
 ],
 "metadata": {
  "hide_input": false,
  "kernelspec": {
   "display_name": "Python 3 (ipykernel)",
   "language": "python",
   "name": "python3"
  },
  "language_info": {
   "codemirror_mode": {
    "name": "ipython",
    "version": 3
   },
   "file_extension": ".py",
   "mimetype": "text/x-python",
   "name": "python",
   "nbconvert_exporter": "python",
   "pygments_lexer": "ipython3",
   "version": "3.10.4"
  },
  "nbTranslate": {
   "displayLangs": [
    "*"
   ],
   "hotkey": "alt-t",
   "langInMainMenu": true,
   "sourceLang": "en",
   "targetLang": "fr",
   "useGoogleTranslate": true
  },
  "toc": {
   "base_numbering": 1,
   "nav_menu": {},
   "number_sections": true,
   "sideBar": true,
   "skip_h1_title": false,
   "title_cell": "Table of Contents",
   "title_sidebar": "Contents",
   "toc_cell": false,
   "toc_position": {},
   "toc_section_display": true,
   "toc_window_display": false
  }
 },
 "nbformat": 4,
 "nbformat_minor": 5
}
